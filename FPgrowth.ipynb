{
  "nbformat": 4,
  "nbformat_minor": 0,
  "metadata": {
    "colab": {
      "name": "FPgrowth.ipynb",
      "provenance": [],
      "collapsed_sections": [],
      "authorship_tag": "ABX9TyO8k2hrOcfiD5PkT8JrkT8V",
      "include_colab_link": true
    },
    "kernelspec": {
      "name": "python3",
      "display_name": "Python 3"
    },
    "language_info": {
      "name": "python"
    }
  },
  "cells": [
    {
      "cell_type": "markdown",
      "metadata": {
        "id": "view-in-github",
        "colab_type": "text"
      },
      "source": [
        "<a href=\"https://colab.research.google.com/github/Shreya-07/CMPE255_catchup-assignment-part-1-/blob/main/FPgrowth.ipynb\" target=\"_parent\"><img src=\"https://colab.research.google.com/assets/colab-badge.svg\" alt=\"Open In Colab\"/></a>"
      ]
    },
    {
      "cell_type": "code",
      "execution_count": 1,
      "metadata": {
        "id": "k29b_7iUTa6A"
      },
      "outputs": [],
      "source": [
        "class tree:\n",
        "    def __init__(self, nameValue, numOccur, parentNode):\n",
        "        self.name = nameValue\n",
        "        self.count = numOccur\n",
        "        self.nodeLink = None\n",
        "        self.parent = parentNode\n",
        "        self.children = {} \n",
        "    def inc(self, numOccur):\n",
        "        self.count += numOccur     \n",
        "    def disp(self, ind=1):\n",
        "        print ('  '*ind, self.name, ' ', self.count)\n",
        "        for child in self.children.values():\n",
        "            child.disp(ind+1)"
      ]
    },
    {
      "cell_type": "code",
      "source": [
        "root = tree('pyramid',9,None)\n",
        "root.children['eye'] = tree('eye',13,None)\n",
        "root.disp()"
      ],
      "metadata": {
        "colab": {
          "base_uri": "https://localhost:8080/"
        },
        "id": "L9uPargwTjF3",
        "outputId": "ad0e3c39-0f2d-4526-b951-0e5fda78d79b"
      },
      "execution_count": 3,
      "outputs": [
        {
          "output_type": "stream",
          "name": "stdout",
          "text": [
            "   pyramid   9\n",
            "     eye   13\n"
          ]
        }
      ]
    },
    {
      "cell_type": "code",
      "source": [
        "def createTree(dataSet, minSup=1): \n",
        "    headerTable = {}\n",
        "    for trans in dataSet:\n",
        "        for item in trans:\n",
        "            headerTable[item] = headerTable.get(item, 0) + dataSet[trans]\n",
        "    for k in list(headerTable):\n",
        "        if headerTable[k] < minSup: \n",
        "            del(headerTable[k])\n",
        "    freqItemSet = set(headerTable.keys())\n",
        "    if len(freqItemSet) == 0: return None, None  \n",
        "    for k in headerTable:\n",
        "        headerTable[k] = [headerTable[k], None]\n",
        "    retTree = tree('Null Set', 1, None)\n",
        "    for tranSet, count in dataSet.items():\n",
        "        localD = {}\n",
        "        for item in tranSet:  \n",
        "            if item in freqItemSet:\n",
        "                localD[item] = headerTable[item][0]\n",
        "        if len(localD) > 0:\n",
        "            orderedItems = [v[0] for v in sorted(localD.items(), key=lambda p: p[1], reverse=True)]\n",
        "            updateTree(orderedItems, retTree, headerTable, count)\n",
        "    return retTree, headerTable"
      ],
      "metadata": {
        "id": "qYHoBIzeTlVL"
      },
      "execution_count": 11,
      "outputs": []
    },
    {
      "cell_type": "code",
      "source": [
        "def updateTree(items, inTree, headerTable, count):\n",
        "    if items[0] in inTree.children:\n",
        "        inTree.children[items[0]].inc(count) #incrament count\n",
        "    else:\n",
        "        inTree.children[items[0]] = tree(items[0], count, inTree)\n",
        "        if headerTable[items[0]][1] == None: #update header table \n",
        "            headerTable[items[0]][1] = inTree.children[items[0]]\n",
        "        else:\n",
        "            updateHeader(headerTable[items[0]][1], inTree.children[items[0]])\n",
        "    if len(items) > 1:\n",
        "        updateTree(items[1::], inTree.children[items[0]], headerTable, count)"
      ],
      "metadata": {
        "id": "KYiN0oaXTpTB"
      },
      "execution_count": 32,
      "outputs": []
    },
    {
      "cell_type": "code",
      "source": [
        "def updateHeader(Test, target):   #this version does not use recursion\n",
        "    while (Test.nodeLink != None):    #Do not use recursion to traverse a linked list!\n",
        "        Test = Test.nodeLink\n",
        "    Test.nodeLink = target"
      ],
      "metadata": {
        "id": "HkdilyVzTrW3"
      },
      "execution_count": 33,
      "outputs": []
    },
    {
      "cell_type": "code",
      "source": [
        "data = [['r', 'z', 'h', 'j', 'p'],\n",
        "               ['z', 'y', 'x', 'w', 'v', 'u', 't', 's'],\n",
        "               ['z'],\n",
        "               ['r', 'x', 'n', 'o', 's'],\n",
        "               ['y', 'r', 'x', 'z', 'q', 't', 'p'],\n",
        "               ['y', 'z', 'x', 'e', 'q', 's', 't', 'm']]\n",
        "data"
      ],
      "metadata": {
        "colab": {
          "base_uri": "https://localhost:8080/"
        },
        "id": "HPN4_yf1TtWk",
        "outputId": "ef4f4044-9aa8-402f-f694-114312dbac93"
      },
      "execution_count": 34,
      "outputs": [
        {
          "output_type": "execute_result",
          "data": {
            "text/plain": [
              "[['r', 'z', 'h', 'j', 'p'],\n",
              " ['z', 'y', 'x', 'w', 'v', 'u', 't', 's'],\n",
              " ['z'],\n",
              " ['r', 'x', 'n', 'o', 's'],\n",
              " ['y', 'r', 'x', 'z', 'q', 't', 'p'],\n",
              " ['y', 'z', 'x', 'e', 'q', 's', 't', 'm']]"
            ]
          },
          "metadata": {},
          "execution_count": 34
        }
      ]
    },
    {
      "cell_type": "code",
      "source": [
        "def createInitSet(dataSet):\n",
        "    retDict = {}\n",
        "    for trans in dataSet:\n",
        "        retDict[frozenset(trans)] = 1\n",
        "    return retDict"
      ],
      "metadata": {
        "id": "iBdaAJgFTuFp"
      },
      "execution_count": 35,
      "outputs": []
    },
    {
      "cell_type": "code",
      "source": [
        "initSet = createInitSet(data)\n",
        "initSet"
      ],
      "metadata": {
        "colab": {
          "base_uri": "https://localhost:8080/"
        },
        "id": "pndf1H_mTvzx",
        "outputId": "5854c61d-5f87-41dd-f8bf-e27d8a9465ad"
      },
      "execution_count": 36,
      "outputs": [
        {
          "output_type": "execute_result",
          "data": {
            "text/plain": [
              "{frozenset({'z'}): 1,\n",
              " frozenset({'h', 'j', 'p', 'r', 'z'}): 1,\n",
              " frozenset({'s', 't', 'u', 'v', 'w', 'x', 'y', 'z'}): 1,\n",
              " frozenset({'n', 'o', 'r', 's', 'x'}): 1,\n",
              " frozenset({'p', 'q', 'r', 't', 'x', 'y', 'z'}): 1,\n",
              " frozenset({'e', 'm', 'q', 's', 't', 'x', 'y', 'z'}): 1}"
            ]
          },
          "metadata": {},
          "execution_count": 36
        }
      ]
    },
    {
      "cell_type": "code",
      "source": [
        "FPtree, myHeaderTab = createTree(initSet, 3)"
      ],
      "metadata": {
        "id": "kwxq9aqwTxsz"
      },
      "execution_count": 37,
      "outputs": []
    },
    {
      "cell_type": "code",
      "source": [
        "FPtree.disp()"
      ],
      "metadata": {
        "colab": {
          "base_uri": "https://localhost:8080/"
        },
        "id": "bgPTPgaOT0E0",
        "outputId": "bf720368-5b90-4f33-e27b-7a3d532c9245"
      },
      "execution_count": 38,
      "outputs": [
        {
          "output_type": "stream",
          "name": "stdout",
          "text": [
            "   Null Set   1\n",
            "     z   5\n",
            "       r   1\n",
            "       x   3\n",
            "         s   2\n",
            "           y   2\n",
            "             t   2\n",
            "         r   1\n",
            "           y   1\n",
            "             t   1\n",
            "     x   1\n",
            "       s   1\n",
            "         r   1\n"
          ]
        }
      ]
    }
  ]
}